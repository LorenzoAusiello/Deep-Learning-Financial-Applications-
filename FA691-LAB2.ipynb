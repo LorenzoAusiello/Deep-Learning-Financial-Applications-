{
 "cells": [
  {
   "cell_type": "markdown",
   "id": "aware-spouse",
   "metadata": {},
   "source": [
    "Name: Lorenzo Ausiello\n",
    "\n",
    "Date: 1/28/2024"
   ]
  },
  {
   "cell_type": "code",
   "execution_count": 2,
   "id": "fundamental-defense",
   "metadata": {},
   "outputs": [],
   "source": [
    "import numpy as np\n",
    "import matplotlib.pyplot as plt\n",
    "\n",
    "# Set seed of random number generator\n",
    "CWID = 20021869 \n",
    "personal = CWID % 10000\n",
    "np.random.seed(personal)"
   ]
  },
  {
   "cell_type": "markdown",
   "id": "handed-rebound",
   "metadata": {},
   "source": [
    "## Question 1 (15pt)"
   ]
  },
  {
   "cell_type": "markdown",
   "id": "pediatric-shoulder",
   "metadata": {},
   "source": [
    "### Question 1.1\n",
    "Use the `yfinance` package (or other method of your choice) to obtain the daily adjusted close prices for 2 different stocks.  You should have at least five years of data for both assets.  You should inspect the dates for your data to make sure you are including everything appropriately.  Create a data frame (or array) of the daily log returns both both stocks along with the lagged returns (3 lags).  Use the `print` command to display your data."
   ]
  },
  {
   "cell_type": "code",
   "execution_count": 3,
   "id": "7ae435c6",
   "metadata": {},
   "outputs": [
    {
     "name": "stdout",
     "output_type": "stream",
     "text": [
      "[*********************100%***********************]  2 of 2 completed\n",
      "                AAPL      AMZN\n",
      "Date                          \n",
      "2018-01-03 -0.000174  0.012694\n",
      "2018-01-04  0.004634  0.004466\n",
      "2018-01-05  0.011321  0.016033\n",
      "2018-01-08 -0.003721  0.014322\n",
      "2018-01-09 -0.000115  0.004665\n",
      "...              ...       ...\n",
      "2023-12-22 -0.005563 -0.002734\n",
      "2023-12-26 -0.002845 -0.000065\n",
      "2023-12-27  0.000518 -0.000456\n",
      "2023-12-28  0.002224  0.000261\n",
      "2023-12-29 -0.005439 -0.009433\n",
      "\n",
      "[1508 rows x 2 columns]\n"
     ]
    }
   ],
   "source": [
    "import yfinance\n",
    "from datetime import datetime\n",
    "import pandas as pd\n",
    "\n",
    "myData= yfinance.download(['AAPL','AMZN'], datetime(2018,1,1), datetime(2024,1,1))\n",
    "AAPL = myData['Adj Close']['AAPL']\n",
    "AMZN = myData['Adj Close']['AMZN']\n",
    "rAAPL = (np.log(AAPL) - np.log(AAPL.shift(1))).dropna()\n",
    "rAMZN = (np.log(AMZN) - np.log(AMZN.shift(1))).dropna()\n",
    "\n",
    "df = pd.DataFrame({'AAPL': rAAPL, 'AMZN': rAMZN})\n",
    "print(df)"
   ]
  },
  {
   "cell_type": "markdown",
   "id": "progressive-range",
   "metadata": {},
   "source": [
    "### Question 1.2\n",
    "Split your data into training and testing sets (80% training and 20% test).\n",
    "\n",
    "Linearly regress one of your stock returns as a function of the lagged returns (2 lags) for both stocks.\n",
    "This should be of the form $r_{1,t} = \\beta_0 + \\beta_{1,1} r_{1,t-1} + \\beta_{1,2} r_{1,t-2} + \\beta_{1,3} r_{1,t-3} + \\beta_{2,1} r_{2,t-1} + \\beta_{2,2} r_{2,t-2} + \\beta_{2,3} r_{2,t-3}$. Evaluate the performance of this model with the mean squared error on the test data."
   ]
  },
  {
   "cell_type": "code",
   "execution_count": 4,
   "id": "invisible-understanding",
   "metadata": {},
   "outputs": [],
   "source": [
    "from sklearn.model_selection import train_test_split\n",
    "from sklearn.linear_model import LinearRegression\n",
    "from sklearn.metrics import mean_squared_error\n",
    "\n",
    "for i in range(1, 4):\n",
    "    df[f\"AAPL_lag{i}\"] = df[\"AAPL\"].shift(i)\n",
    "    df[f\"AMZN_lag{i}\"] = df[\"AMZN\"].shift(i)\n",
    "    df[f\"AMZN_lag{i}\"] = df[\"AMZN\"].shift(i)\n",
    "df= df.dropna()\n",
    "# Select features and target\n",
    "X = df[[\"AAPL_lag1\", \"AAPL_lag2\", \"AAPL_lag3\", \"AMZN_lag1\", \"AMZN_lag2\", \"AMZN_lag3\"]]\n",
    "y = df[\"AAPL\"]\n",
    "\n",
    "# Split data into training and testing sets\n",
    "X_train, X_test, y_train, y_test = train_test_split(X, y, test_size=0.2, random_state=42)\n",
    "\n",
    "# Train the model and make predictions\n",
    "model = LinearRegression()\n",
    "model.fit(X_train, y_train)\n",
    "y_pred = model.predict(X_test)\n",
    "\n",
    "# Evaluate performance\n",
    "mse = mean_squared_error(y_test, y_pred)"
   ]
  },
  {
   "cell_type": "markdown",
   "id": "individual-alarm",
   "metadata": {},
   "source": [
    "<font color='red'>Solution:</font>"
   ]
  },
  {
   "cell_type": "code",
   "execution_count": 5,
   "id": "7aad40c8",
   "metadata": {},
   "outputs": [
    {
     "name": "stdout",
     "output_type": "stream",
     "text": [
      "\n",
      "Mean Squared Error on Test Data: 0.000336\n"
     ]
    }
   ],
   "source": [
    "print(\"\\nMean Squared Error on Test Data:\", round(mse,6))"
   ]
  },
  {
   "cell_type": "markdown",
   "id": "demographic-tiger",
   "metadata": {},
   "source": [
    "## Question 2 (35pt)"
   ]
  },
  {
   "cell_type": "markdown",
   "id": "major-lodging",
   "metadata": {},
   "source": [
    "### Question 2.1\n",
    "Using the same data, train/test split ratio, and consider the same regression problem as in Question 1.2.\n",
    "Create a feed-forward neural network with a single hidden layer (8 hidden nodes) densely connected to the inputs.\n",
    "You may choose any activation functions you wish."
   ]
  },
  {
   "cell_type": "code",
   "execution_count": 6,
   "id": "fifteen-heart",
   "metadata": {},
   "outputs": [
    {
     "name": "stdout",
     "output_type": "stream",
     "text": [
      "WARNING:tensorflow:From c:\\Users\\loaus\\anaconda3\\lib\\site-packages\\keras\\src\\losses.py:2976: The name tf.losses.sparse_softmax_cross_entropy is deprecated. Please use tf.compat.v1.losses.sparse_softmax_cross_entropy instead.\n",
      "\n",
      "WARNING:tensorflow:From c:\\Users\\loaus\\anaconda3\\lib\\site-packages\\keras\\src\\backend.py:873: The name tf.get_default_graph is deprecated. Please use tf.compat.v1.get_default_graph instead.\n",
      "\n",
      "Model: \"sequential\"\n",
      "_________________________________________________________________\n",
      " Layer (type)                Output Shape              Param #   \n",
      "=================================================================\n",
      " dense (Dense)               (None, 8)                 56        \n",
      "                                                                 \n",
      " dense_1 (Dense)             (None, 1)                 9         \n",
      "                                                                 \n",
      "=================================================================\n",
      "Total params: 65 (260.00 Byte)\n",
      "Trainable params: 65 (260.00 Byte)\n",
      "Non-trainable params: 0 (0.00 Byte)\n",
      "_________________________________________________________________\n"
     ]
    }
   ],
   "source": [
    "import tensorflow as tf\n",
    "from tensorflow import keras\n",
    "\n",
    "model = keras.Sequential()\n",
    "\n",
    "# Hidden layer\n",
    "model.add(keras.layers.Dense(units=8, input_dim=6, activation= 'relu'))\n",
    "\n",
    "# Output layer\n",
    "model.add(keras.layers.Dense(1, activation = \"sigmoid\"))\n",
    "model.summary()"
   ]
  },
  {
   "cell_type": "markdown",
   "id": "straight-breach",
   "metadata": {},
   "source": [
    "### Question 2.2\n",
    "Train this neural network on the training data.  \n",
    "Evaluate the performance of this model with the mean squared error on the test data."
   ]
  },
  {
   "cell_type": "code",
   "execution_count": 7,
   "id": "unlike-roads",
   "metadata": {},
   "outputs": [
    {
     "name": "stdout",
     "output_type": "stream",
     "text": [
      "WARNING:tensorflow:From c:\\Users\\loaus\\anaconda3\\lib\\site-packages\\keras\\src\\utils\\tf_utils.py:492: The name tf.ragged.RaggedTensorValue is deprecated. Please use tf.compat.v1.ragged.RaggedTensorValue instead.\n",
      "\n",
      "WARNING:tensorflow:From c:\\Users\\loaus\\anaconda3\\lib\\site-packages\\keras\\src\\engine\\base_layer_utils.py:384: The name tf.executing_eagerly_outside_functions is deprecated. Please use tf.compat.v1.executing_eagerly_outside_functions instead.\n",
      "\n",
      "10/10 [==============================] - 0s 2ms/step\n"
     ]
    }
   ],
   "source": [
    "# Compile the model\n",
    "model.compile(optimizer=keras.optimizers.Adam(),loss='mean_squared_error',metrics=['accuracy'])\n",
    "\n",
    "# Train the model on the training data\n",
    "model.fit(X_train, y_train, epochs=500, verbose = 0)\n",
    "\n",
    "# Make predictions on the test data\n",
    "y_pred = model.predict(X_test)\n",
    "\n",
    "# Evaluate performance\n",
    "mse = mean_squared_error(y_test, y_pred)"
   ]
  },
  {
   "cell_type": "markdown",
   "id": "organic-martin",
   "metadata": {},
   "source": [
    "<font color='red'>Solution:</font> "
   ]
  },
  {
   "cell_type": "code",
   "execution_count": 9,
   "id": "17055e98",
   "metadata": {},
   "outputs": [
    {
     "name": "stdout",
     "output_type": "stream",
     "text": [
      "\n",
      "Mean Squared Error on Test Data: 0.000331\n"
     ]
    }
   ],
   "source": [
    "print(\"\\nMean Squared Error on Test Data:\", round(mse,6))"
   ]
  },
  {
   "cell_type": "markdown",
   "id": "standard-methodology",
   "metadata": {},
   "source": [
    "### Question 2.3\n",
    "Using the same train/test split and consider the same regression problem as in Question 1.2.\n",
    "Train and test another neural network of your own design."
   ]
  },
  {
   "cell_type": "code",
   "execution_count": 10,
   "id": "collective-briefs",
   "metadata": {},
   "outputs": [
    {
     "name": "stdout",
     "output_type": "stream",
     "text": [
      "Model: \"sequential_1\"\n",
      "_________________________________________________________________\n",
      " Layer (type)                Output Shape              Param #   \n",
      "=================================================================\n",
      " dense_2 (Dense)             (None, 16)                112       \n",
      "                                                                 \n",
      " dense_3 (Dense)             (None, 8)                 136       \n",
      "                                                                 \n",
      " dense_4 (Dense)             (None, 1)                 9         \n",
      "                                                                 \n",
      "=================================================================\n",
      "Total params: 257 (1.00 KB)\n",
      "Trainable params: 257 (1.00 KB)\n",
      "Non-trainable params: 0 (0.00 Byte)\n",
      "_________________________________________________________________\n",
      "10/10 [==============================] - 0s 1ms/step\n"
     ]
    }
   ],
   "source": [
    "# Create a sequential model\n",
    "model = keras.Sequential()\n",
    "\n",
    "# Add a hidden layer with 16 units, input dimension of 6, and ReLU activation\n",
    "model.add(keras.layers.Dense(units=16, input_dim=6, activation='relu'))\n",
    "\n",
    "# Add another hidden layer with 8 units and ReLU activation\n",
    "model.add(keras.layers.Dense(units=8, activation='relu'))\n",
    "\n",
    "# Output layer with 1 unit and linear activation\n",
    "model.add(keras.layers.Dense(1, activation=\"sigmoid\"))\n",
    "\n",
    "# Display the model summary\n",
    "model.summary()\n",
    "\n",
    "# Compile the model with Adam optimizer, mean squared error loss, and accuracy as a metric\n",
    "model.compile(optimizer=keras.optimizers.Adam(), loss='mean_squared_error', metrics=['accuracy'])\n",
    "\n",
    "# Train the model on the training data for 500 epochs \n",
    "model.fit(X_train, y_train, epochs=500, verbose=0)\n",
    "\n",
    "# Make predictions on the test data\n",
    "y_pred = model.predict(X_test)\n",
    "\n",
    "# Evaluate performance using mean squared error\n",
    "mse = mean_squared_error(y_test, y_pred)"
   ]
  },
  {
   "cell_type": "markdown",
   "id": "changed-suicide",
   "metadata": {},
   "source": [
    "<font color='red'>Solution:</font>"
   ]
  },
  {
   "cell_type": "code",
   "execution_count": 11,
   "id": "6bfbb0fa",
   "metadata": {},
   "outputs": [
    {
     "name": "stdout",
     "output_type": "stream",
     "text": [
      "Mean Squared Error: 0.000328\n"
     ]
    }
   ],
   "source": [
    "print(\"Mean Squared Error:\", round(mse,6))"
   ]
  },
  {
   "cell_type": "markdown",
   "id": "close-paradise",
   "metadata": {},
   "source": [
    "## Question 3 (10pt)"
   ]
  },
  {
   "cell_type": "markdown",
   "id": "spread-olympus",
   "metadata": {},
   "source": [
    "## Question 3.1\n",
    "Consider the same regression problem as in Question 1.2.\n",
    "Of the methods considered in this assignment, which would you recommend in practice?\n",
    "Explain briefly (1 paragraph) why you choose this fit. "
   ]
  },
  {
   "cell_type": "markdown",
   "id": "55c9571c",
   "metadata": {},
   "source": [
    "<font color='red'>Solution:</font> "
   ]
  },
  {
   "cell_type": "markdown",
   "id": "e174d628",
   "metadata": {},
   "source": [
    "Among the three methods considered in this assignment, I would recommend the third method, which involves training and testing a neural network with two hidden layers. This recommendation is based on the lower Mean Squared Error (MSE) achieved by this method compared to the other two. With a MSE of 0.000327, it indicates that this neural network model provides a better fit to the test data compared to the linear regression model (MSE: 0.000336) and the feed-forward neural network with a single hidden layer (MSE: 0.000333). However, it's essential to consider factors such as model interpretability."
   ]
  }
 ],
 "metadata": {
  "kernelspec": {
   "display_name": "Python 3 (ipykernel)",
   "language": "python",
   "name": "python3"
  },
  "language_info": {
   "codemirror_mode": {
    "name": "ipython",
    "version": 3
   },
   "file_extension": ".py",
   "mimetype": "text/x-python",
   "name": "python",
   "nbconvert_exporter": "python",
   "pygments_lexer": "ipython3",
   "version": "3.10.9"
  }
 },
 "nbformat": 4,
 "nbformat_minor": 5
}
